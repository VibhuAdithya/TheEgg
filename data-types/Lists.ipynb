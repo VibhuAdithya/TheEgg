{
 "cells": [
  {
   "cell_type": "markdown",
   "id": "c8710591",
   "metadata": {},
   "source": [
    "`This notebook explains about the list data type and its manipulation basics followed by manipulation of string data type with the use of lists.`\n",
    "\n",
    "Overview:\n",
    "\n",
    "1. [Creating an Empty List](#Creating-an-Empty-List)\n",
    "2. [Elements in a List](#Elements-in-a-List)\n",
    "3. [List Slicing](#List-Slicing)\n",
    "4. [Adding new values to a List](#Adding-new-values-to-a-List)\n",
    "5. [Popping out elements from the List](#Popping-out-elements-from-the-List)\n",
    "6. [Adding and Removing elements to a List](#Adding-and-Removing-elements-to-a-List)\n",
    "7. [New List from Existing List](#New-List-from-Existing-List)\n",
    "8. [Reference IDs for the original and new lists created using shallow and deep copy](#Reference-IDs-for-the-original-and-new-lists-created-using-shallow-and-deep-copy)\n",
    "9. [String Data Type in Python - Split & Join](#String-Data-Type-in-Python---Split-&-Join)\n",
    "10. [List Manipulation](#List-Manipulation)"
   ]
  },
  {
   "cell_type": "markdown",
   "id": "61d2d8f4",
   "metadata": {},
   "source": [
    "### Creating an Empty List"
   ]
  },
  {
   "cell_type": "code",
   "execution_count": 52,
   "id": "ad5a3db2",
   "metadata": {},
   "outputs": [
    {
     "name": "stdout",
     "output_type": "stream",
     "text": [
      "[]\n"
     ]
    }
   ],
   "source": [
    "empty_list = []\n",
    "print(empty_list)"
   ]
  },
  {
   "cell_type": "markdown",
   "id": "bc35e599",
   "metadata": {},
   "source": [
    "### Elements in a List"
   ]
  },
  {
   "cell_type": "code",
   "execution_count": 53,
   "id": "3e15266d",
   "metadata": {},
   "outputs": [
    {
     "name": "stdout",
     "output_type": "stream",
     "text": [
      "['C', 'Java', 'R', 'Python', 100]\n"
     ]
    }
   ],
   "source": [
    "# List can contain elements of heterogeneous data types\n",
    "lang_list = ['C','Java','R','Python',100]\n",
    "print(lang_list)"
   ]
  },
  {
   "cell_type": "markdown",
   "id": "25c7c9e5",
   "metadata": {},
   "source": [
    "### List Slicing"
   ]
  },
  {
   "cell_type": "code",
   "execution_count": 54,
   "id": "53c03b58",
   "metadata": {},
   "outputs": [
    {
     "name": "stdout",
     "output_type": "stream",
     "text": [
      "First Element in the List: C\n",
      "Last Element in the List: 100\n",
      "Fetch Second to Third Elements in the List: ['Java', 'R']\n",
      "Fetch First to Second Elements in the List: ['C', 'Java']\n",
      "Fetch Third to All Elements in the List: ['R', 'Python', 100]\n",
      "Fetch Elements from first and last in the List ['Java', 'R']\n"
     ]
    }
   ],
   "source": [
    "# To fetch the first and last element in a List\n",
    "print(\"First Element in the List:\",lang_list[0])\n",
    "print(\"Last Element in the List:\",lang_list[-1])\n",
    "\n",
    "# To fetch a range of elements in a List\n",
    "print(\"Fetch Second to Third Elements in the List:\",lang_list[1:3])\n",
    "print(\"Fetch First to Second Elements in the List:\",lang_list[0:2])\n",
    "print(\"Fetch Third to All Elements in the List:\",lang_list[2:])\n",
    "print(\"Fetch Elements from first and last in the List\",lang_list[1:-2])"
   ]
  },
  {
   "cell_type": "markdown",
   "id": "0e8e49aa",
   "metadata": {},
   "source": [
    "### Adding new values to a List"
   ]
  },
  {
   "cell_type": "code",
   "execution_count": 55,
   "id": "ddd1a203",
   "metadata": {},
   "outputs": [
    {
     "name": "stdout",
     "output_type": "stream",
     "text": [
      "['C', 'Java', 'R', 'Python', 100, 'C++']\n"
     ]
    }
   ],
   "source": [
    "lang_list.append('C++')\n",
    "print(lang_list)"
   ]
  },
  {
   "cell_type": "markdown",
   "id": "14b73937",
   "metadata": {},
   "source": [
    "### Popping out elements from the List"
   ]
  },
  {
   "cell_type": "code",
   "execution_count": 56,
   "id": "6d563bd5",
   "metadata": {},
   "outputs": [
    {
     "name": "stdout",
     "output_type": "stream",
     "text": [
      "Original List: ['C', 'Java', 'R', 'Python', 100, 'C++']\n",
      "After Popping out the last element in the original List: ['C', 'Java', 'R', 'Python', 100]\n",
      "After Popping out the first element in the updated List: ['Java', 'R', 'Python', 100]\n",
      "After Popping out the second element in the updated List: ['Java', 'Python', 100]\n"
     ]
    }
   ],
   "source": [
    "# Pop the last element in the list\n",
    "print(\"Original List:\",lang_list)\n",
    "lang_list.pop()\n",
    "print(\"After Popping out the last element in the original List:\",lang_list)\n",
    "lang_list.pop(0)\n",
    "print(\"After Popping out the first element in the updated List:\",lang_list)\n",
    "lang_list.pop(1)\n",
    "print(\"After Popping out the second element in the updated List:\",lang_list)"
   ]
  },
  {
   "cell_type": "markdown",
   "id": "f4326a7f",
   "metadata": {},
   "source": [
    "### Adding and Removing elements to a List"
   ]
  },
  {
   "cell_type": "code",
   "execution_count": 57,
   "id": "2300acb8",
   "metadata": {},
   "outputs": [
    {
     "name": "stdout",
     "output_type": "stream",
     "text": [
      "Original List: ['Java', 'Python', 100]\n",
      "Element appended to the List: ['Java', 'Python', 100, 'R']\n",
      "Element removed from the List: ['Java', 'Python', 100]\n"
     ]
    }
   ],
   "source": [
    "print(\"Original List:\",lang_list)\n",
    "\n",
    "lang_list.append('R')\n",
    "print(\"Element appended to the List:\",lang_list)\n",
    "\n",
    "lang_list.remove('R')\n",
    "print(\"Element removed from the List:\",lang_list)"
   ]
  },
  {
   "cell_type": "markdown",
   "id": "07bc7396",
   "metadata": {},
   "source": [
    "### New List from Existing List"
   ]
  },
  {
   "cell_type": "code",
   "execution_count": 58,
   "id": "c23fd59c",
   "metadata": {},
   "outputs": [
    {
     "name": "stdout",
     "output_type": "stream",
     "text": [
      "Original List: ['Java', 'Python', 100]\n",
      "New List: ['Java', 'Python', 100, 'R']\n",
      "Original List Updated similar to the new list: ['Java', 'Python', 100, 'R']\n"
     ]
    }
   ],
   "source": [
    "new_list = lang_list\n",
    "print(\"Original List:\",lang_list)\n",
    "\n",
    "new_list.append('R') # append a new element to the new list\n",
    "print(\"New List:\",new_list)\n",
    "\n",
    "print(\"Original List Updated similar to the new list:\",lang_list)"
   ]
  },
  {
   "cell_type": "markdown",
   "id": "e119476c",
   "metadata": {},
   "source": [
    "`Chirp: The Original List 'lang_list' also got updated when the new list 'new_list' got updated, because in python Lists do only shallow copy by default. For the original list to not be affected, a deep copy is required`"
   ]
  },
  {
   "cell_type": "code",
   "execution_count": 59,
   "id": "c851df5f",
   "metadata": {},
   "outputs": [
    {
     "name": "stdout",
     "output_type": "stream",
     "text": [
      "New List 2: ['Java', 'Python', 100, 'R']\n",
      "New List 2 after append: ['Java', 'Python', 100, 'R', 'C']\n",
      "Original List unaffected: ['Java', 'Python', 100, 'R']\n"
     ]
    }
   ],
   "source": [
    "new_list_2 = lang_list.copy()\n",
    "print(\"New List 2:\",new_list_2)\n",
    "\n",
    "new_list_2.append('C') # append a new element to the new list\n",
    "print(\"New List 2 after append:\",new_list_2)\n",
    "\n",
    "print(\"Original List unaffected:\",lang_list)"
   ]
  },
  {
   "cell_type": "markdown",
   "id": "3a649761",
   "metadata": {},
   "source": [
    "### Reference IDs for the original and new lists created using shallow and deep copy"
   ]
  },
  {
   "cell_type": "code",
   "execution_count": 62,
   "id": "3a09a850",
   "metadata": {},
   "outputs": [
    {
     "name": "stdout",
     "output_type": "stream",
     "text": [
      "ID of the Original List: 2368113713024\n",
      "ID of the New List: 2368113713024\n",
      "ID of the New List 2: 2368113714880\n"
     ]
    }
   ],
   "source": [
    "print(\"ID of the Original List:\",id(lang_list))\n",
    "print(\"ID of the New List:\",id(new_list))\n",
    "print(\"ID of the New List 2:\",id(new_list_2))"
   ]
  },
  {
   "cell_type": "markdown",
   "id": "d3f0cd5e",
   "metadata": {},
   "source": [
    "`Chirp: The reference IDs for the original and new list are same which means that they use the same reference object while the new list 2 has a different reference object`"
   ]
  },
  {
   "cell_type": "markdown",
   "id": "54ff3cea",
   "metadata": {},
   "source": [
    "### String Data Type in Python - Split & Join"
   ]
  },
  {
   "cell_type": "code",
   "execution_count": 67,
   "id": "87b3c90c",
   "metadata": {},
   "outputs": [
    {
     "name": "stdout",
     "output_type": "stream",
     "text": [
      "Words List: ['Hi,', 'this', 'is', 'a', 'sample', 'sentence', 'for', 'string', 'data', 'type.']\n",
      "Delimiter split words list: ['Hi', ' this is a sample sentence for string data type.']\n",
      "Words List joined together: Hi  this is a sample sentence for string data type.\n"
     ]
    }
   ],
   "source": [
    "sample_sentence = \"Hi, this is a sample sentence for string data type.\"\n",
    "\n",
    "# Strings when split in python will be created as a List\n",
    "sentence_words = sample_sentence.split() \n",
    "print(\"Words List:\",sentence_words)\n",
    "\n",
    "# Splitting based on delimiter\n",
    "delimited_words = sample_sentence.split(',') \n",
    "print(\"Delimiter split words list:\",delimited_words)\n",
    "\n",
    "# Joining the words in list\n",
    "words_join = \" \".join(delimited_words)\n",
    "print(\"Words List joined together:\",words_join)"
   ]
  },
  {
   "cell_type": "markdown",
   "id": "397fa934",
   "metadata": {},
   "source": [
    "### List Manipulation"
   ]
  },
  {
   "cell_type": "code",
   "execution_count": 73,
   "id": "878c1198",
   "metadata": {},
   "outputs": [
    {
     "name": "stdout",
     "output_type": "stream",
     "text": [
      "Multiplied List of Strings: ['Hi', 'Hi', 'Hi', 'Hi', 'Hi']\n",
      "Concatenated String List: ['Hi', 'Hi']\n"
     ]
    }
   ],
   "source": [
    "# String Multiply\n",
    "my_list = [\"Hi\"]\n",
    "print(\"Multiplied List of Strings:\",my_list*5)\n",
    "\n",
    "# Strings List concatenation\n",
    "print(\"Concatenated String List:\",my_list + my_list)"
   ]
  },
  {
   "cell_type": "code",
   "execution_count": 77,
   "id": "c0cc4330",
   "metadata": {},
   "outputs": [
    {
     "name": "stdout",
     "output_type": "stream",
     "text": [
      "Length of the Integer List: 6\n",
      "Sorted List: [1, 2, 2, 3, 6, 9]\n",
      "Max Element of the List: 9\n",
      "Min Element of the List: 1\n"
     ]
    }
   ],
   "source": [
    "# Integer List\n",
    "nums = [2,6,9,3,2,1]\n",
    "print(\"Length of the Integer List:\",len(nums))\n",
    "\n",
    "# Sorted Integer List\n",
    "print(\"Sorted List:\",sorted(nums))\n",
    "\n",
    "# Max element of the Integer List\n",
    "print(\"Max Element of the List:\",max(nums))\n",
    "\n",
    "# Min element of the Integer List\n",
    "print(\"Min Element of the List:\",min(nums))"
   ]
  },
  {
   "cell_type": "code",
   "execution_count": 85,
   "id": "29a6ce8d",
   "metadata": {},
   "outputs": [
    {
     "name": "stdout",
     "output_type": "stream",
     "text": [
      "Nested List: [[1, 2, 3, 4], [5, 6, 7], [8, 9, 10]]\n",
      "Nested List Select: [5, 6, 7]\n",
      "Fetch first element in the first list: 2\n",
      "Nested List Range Select: [[1, 2, 3, 4], [5, 6, 7]]\n"
     ]
    }
   ],
   "source": [
    "# Nested List\n",
    "nest = [[1, 2, 3, 4], [ 5, 6, 7], [8, 9, 10]]\n",
    "\n",
    "print(\"Nested List:\",nest)\n",
    "print(\"Nested List Select:\",nest[1])\n",
    "print(\"Fetch first element in the first list:\",nest[0][1])\n",
    "print(\"Nested List Range Select:\",nest[0:2])"
   ]
  }
 ],
 "metadata": {
  "kernelspec": {
   "display_name": "Python 3 (ipykernel)",
   "language": "python",
   "name": "python3"
  },
  "language_info": {
   "codemirror_mode": {
    "name": "ipython",
    "version": 3
   },
   "file_extension": ".py",
   "mimetype": "text/x-python",
   "name": "python",
   "nbconvert_exporter": "python",
   "pygments_lexer": "ipython3",
   "version": "3.8.12"
  }
 },
 "nbformat": 4,
 "nbformat_minor": 5
}
